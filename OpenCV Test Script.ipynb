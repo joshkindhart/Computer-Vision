{
 "cells": [
  {
   "cell_type": "code",
   "execution_count": 1,
   "id": "dense-armenia",
   "metadata": {},
   "outputs": [],
   "source": [
    "import cv2"
   ]
  },
  {
   "cell_type": "code",
   "execution_count": 2,
   "id": "fourth-agenda",
   "metadata": {},
   "outputs": [],
   "source": [
    "img = cv2.imread(\"my_facebook_profile_pic.jpg\",1)"
   ]
  },
  {
   "cell_type": "code",
   "execution_count": 3,
   "id": "overall-croatia",
   "metadata": {},
   "outputs": [],
   "source": [
    "cv2.imshow(\"my_window\",img)"
   ]
  },
  {
   "cell_type": "code",
   "execution_count": null,
   "id": "enabling-dodge",
   "metadata": {},
   "outputs": [],
   "source": [
    "cv2.waitKey(0)"
   ]
  },
  {
   "cell_type": "code",
   "execution_count": null,
   "id": "impaired-sigma",
   "metadata": {},
   "outputs": [],
   "source": [
    "cv2.destroyAllWindows()"
   ]
  }
 ],
 "metadata": {
  "kernelspec": {
   "display_name": "Python 3",
   "language": "python",
   "name": "python3"
  },
  "language_info": {
   "codemirror_mode": {
    "name": "ipython",
    "version": 3
   },
   "file_extension": ".py",
   "mimetype": "text/x-python",
   "name": "python",
   "nbconvert_exporter": "python",
   "pygments_lexer": "ipython3",
   "version": "3.7.3"
  }
 },
 "nbformat": 4,
 "nbformat_minor": 5
}
